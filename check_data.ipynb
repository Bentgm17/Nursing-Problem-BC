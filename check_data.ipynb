{
 "cells": [
  {
   "cell_type": "code",
   "execution_count": 1,
   "metadata": {},
   "outputs": [],
   "source": [
    "%run \"read_db.py\"\n",
    "from ipynb.fs.full.read_db import ExtractData \n",
    "import datetime as dt"
   ]
  },
  {
   "cell_type": "code",
   "execution_count": 2,
   "metadata": {},
   "outputs": [],
   "source": [
    "extract = ExtractData()\n",
    "df = extract.check_read()\n",
    "\n",
    "# display(df)\n",
    "appoint_df=df.loc[(dt.datetime.today() < df['FromUtc'])]\n",
    "unique_rec=appoint_df['RecurringTimeSlotDefinitionId'].unique()\n",
    "# print('Non-Recurring Timeslots:'+str(df['RecurringTimeSlotDefinitionId'].isna().sum() ))\n",
    "# print('Recurring Timeslots:'+str(len(df)-df['RecurringTimeSlotDefinitionId'].isna().sum()))\n",
    "# print(len(df.loc[df['RecurringTimeSlotDefinitionId'].astype(str).str.isnumeric()]))\n",
    "# # df.boxplot()\n",
    "# df.plot()\n",
    "# df.describe()"
   ]
  },
  {
   "cell_type": "code",
   "execution_count": 3,
   "metadata": {},
   "outputs": [
    {
     "data": {
      "text/plain": [
       "3359"
      ]
     },
     "execution_count": 3,
     "metadata": {},
     "output_type": "execute_result"
    }
   ],
   "source": [
    "len(unique_rec)"
   ]
  }
 ],
 "metadata": {
  "interpreter": {
   "hash": "ac2eaa0ea0ebeafcc7822e65e46aa9d4f966f30b695406963e145ea4a91cd4fc"
  },
  "kernelspec": {
   "display_name": "Python 3.9.10 64-bit",
   "language": "python",
   "name": "python3"
  },
  "language_info": {
   "codemirror_mode": {
    "name": "ipython",
    "version": 3
   },
   "file_extension": ".py",
   "mimetype": "text/x-python",
   "name": "python",
   "nbconvert_exporter": "python",
   "pygments_lexer": "ipython3",
   "version": "3.9.10"
  },
  "orig_nbformat": 4
 },
 "nbformat": 4,
 "nbformat_minor": 2
}
